{
 "cells": [
  {
   "cell_type": "markdown",
   "metadata": {},
   "source": [
    "Inspired by Malcom Gladwell's book Outliers.\n",
    "Random sample of 10000 trying to determine the improtance of luck in success."
   ]
  },
  {
   "cell_type": "code",
   "execution_count": 38,
   "metadata": {},
   "outputs": [],
   "source": [
    "import numpy as np\n",
    "from matplotlib import pyplot as plt"
   ]
  },
  {
   "cell_type": "code",
   "execution_count": 39,
   "metadata": {},
   "outputs": [],
   "source": [
    "population = np.arange(0, 20000, 1)\n",
    "skill = np.random.randint(101, size=20000)\n",
    "intellect = np.random.randint(101, size=20000)\n",
    "grit = np.random.randint(101, size=20000)\n",
    "luck = np.random.randint(101, size=20000)"
   ]
  },
  {
   "cell_type": "markdown",
   "metadata": {},
   "source": [
    "Skill, intellect and grit will account 90% of success, luck will account for 10%."
   ]
  },
  {
   "cell_type": "markdown",
   "metadata": {},
   "source": [
    "Calculate combined skill, intellect and grit"
   ]
  },
  {
   "cell_type": "code",
   "execution_count": 55,
   "metadata": {},
   "outputs": [
    {
     "name": "stdout",
     "output_type": "stream",
     "text": [
      "[151 187 158 ... 170 194 133]\n",
      "293\n"
     ]
    }
   ],
   "source": [
    "combined_sik = skill + intellect + grit\n",
    "print(combined_sik)\n",
    "print(max(combined_sik))"
   ]
  },
  {
   "cell_type": "code",
   "execution_count": 56,
   "metadata": {},
   "outputs": [],
   "source": [
    "def find_max_values(x):\n",
    "    return np.argsort(x)[-10:]"
   ]
  },
  {
   "cell_type": "code",
   "execution_count": 57,
   "metadata": {},
   "outputs": [
    {
     "name": "stdout",
     "output_type": "stream",
     "text": [
      "[12991  9700  2024  6551 19377  3775 10999  7457  2298  2243]\n"
     ]
    }
   ],
   "source": [
    "max_10_sik = find_max_values(combined_sik)\n",
    "print(max_10_sik)"
   ]
  },
  {
   "cell_type": "code",
   "execution_count": 58,
   "metadata": {},
   "outputs": [
    {
     "name": "stdout",
     "output_type": "stream",
     "text": [
      "286\n",
      "286\n",
      "288\n",
      "289\n",
      "289\n",
      "289\n",
      "290\n",
      "291\n",
      "291\n",
      "293\n"
     ]
    }
   ],
   "source": [
    "for i in max_10_sik:\n",
    "    print(combined_sik[i])\n",
    "    "
   ]
  },
  {
   "cell_type": "markdown",
   "metadata": {},
   "source": [
    "^ 10 highest combined skill, intellect and grit values."
   ]
  },
  {
   "cell_type": "markdown",
   "metadata": {},
   "source": [
    "now combine skill, intellect, grit values with luck(score out of 300):"
   ]
  },
  {
   "cell_type": "code",
   "execution_count": 59,
   "metadata": {},
   "outputs": [],
   "source": [
    "skill_intel_know_luck = 0.9*combined_sik + 0.1*luck\n"
   ]
  },
  {
   "cell_type": "markdown",
   "metadata": {},
   "source": [
    "Now find arguments of max skill, intelligence, knowledge and luck combined:"
   ]
  },
  {
   "cell_type": "code",
   "execution_count": 60,
   "metadata": {},
   "outputs": [
    {
     "name": "stdout",
     "output_type": "stream",
     "text": [
      "[12986  2298  7096 19377  7457  6551  1524  2024 10999  2243]\n",
      "263.1\n",
      "263.90000000000003\n",
      "264.1\n",
      "264.5\n",
      "264.70000000000005\n",
      "264.8\n",
      "265.7\n",
      "268.7\n",
      "269.2\n",
      "273.7\n"
     ]
    }
   ],
   "source": [
    "max_10_sikl = find_max_values(skill_intel_know_luck)\n",
    "print(max_10_sikl)\n",
    "for i in max_10_sikl:\n",
    "    print(skill_intel_know_luck[i])"
   ]
  },
  {
   "cell_type": "code",
   "execution_count": 61,
   "metadata": {},
   "outputs": [
    {
     "name": "stdout",
     "output_type": "stream",
     "text": [
      "7\n"
     ]
    }
   ],
   "source": [
    "matching = 0\n",
    "\n",
    "for i in max_10_sik:\n",
    "    for j in max_10_sikl:\n",
    "        if i == j:\n",
    "            matching += 1\n",
    "print(matching)"
   ]
  },
  {
   "cell_type": "markdown",
   "metadata": {},
   "source": [
    "Therefore, 7 random characters who were in the top 10 for skill, intellect and knowlede also appeared in the list when luck was factored in.\n"
   ]
  },
  {
   "cell_type": "code",
   "execution_count": null,
   "metadata": {},
   "outputs": [],
   "source": []
  }
 ],
 "metadata": {
  "kernelspec": {
   "display_name": "Python 3",
   "language": "python",
   "name": "python3"
  },
  "language_info": {
   "codemirror_mode": {
    "name": "ipython",
    "version": 3
   },
   "file_extension": ".py",
   "mimetype": "text/x-python",
   "name": "python",
   "nbconvert_exporter": "python",
   "pygments_lexer": "ipython3",
   "version": "3.7.4"
  }
 },
 "nbformat": 4,
 "nbformat_minor": 4
}
